{
 "cells": [
  {
   "cell_type": "code",
   "execution_count": 108,
   "id": "140f051b",
   "metadata": {},
   "outputs": [],
   "source": [
    "import pandas as pd\n",
    "import numpy as np\n",
    "from sklearn.model_selection import train_test_split\n",
    "from sklearn.tree import DecisionTreeClassifier\n",
    "from sklearn.linear_model import LogisticRegression\n",
    "from sklearn.preprocessing import LabelEncoder,OneHotEncoder\n",
    "from sklearn.ensemble import GradientBoostingClassifier\n",
    "from xgboost import XGBClassifier\n",
    "from sklearn.model_selection import StratifiedKFold, cross_val_score\n",
    "from sklearn.ensemble import RandomForestClassifier\n",
    "from sklearn.ensemble import AdaBoostClassifier\n",
    "from sklearn.metrics import confusion_matrix,classification_report\n",
    "import warnings\n",
    "warnings.filterwarnings('ignore')"
   ]
  },
  {
   "cell_type": "code",
   "execution_count": 109,
   "id": "d255b366",
   "metadata": {},
   "outputs": [],
   "source": [
    "df = pd.read_csv(r'..\\data\\processed\\teleco-clean.csv')"
   ]
  },
  {
   "cell_type": "code",
   "execution_count": 110,
   "id": "a13d6841",
   "metadata": {},
   "outputs": [
    {
     "data": {
      "text/plain": [
       "Index(['gender', 'SeniorCitizen', 'Partner', 'Dependents', 'tenure',\n",
       "       'PhoneService', 'MultipleLines', 'InternetService', 'OnlineSecurity',\n",
       "       'OnlineBackup', 'DeviceProtection', 'TechSupport', 'StreamingTV',\n",
       "       'StreamingMovies', 'Contract', 'PaperlessBilling', 'PaymentMethod',\n",
       "       'MonthlyCharges', 'TotalCharges', 'Churn'],\n",
       "      dtype='object')"
      ]
     },
     "execution_count": 110,
     "metadata": {},
     "output_type": "execute_result"
    }
   ],
   "source": [
    "df.columns"
   ]
  },
  {
   "cell_type": "code",
   "execution_count": 111,
   "id": "4f4de702",
   "metadata": {},
   "outputs": [
    {
     "name": "stdout",
     "output_type": "stream",
     "text": [
      "<class 'pandas.core.frame.DataFrame'>\n",
      "RangeIndex: 7043 entries, 0 to 7042\n",
      "Data columns (total 20 columns):\n",
      " #   Column            Non-Null Count  Dtype  \n",
      "---  ------            --------------  -----  \n",
      " 0   gender            7043 non-null   object \n",
      " 1   SeniorCitizen     7043 non-null   object \n",
      " 2   Partner           7043 non-null   object \n",
      " 3   Dependents        7043 non-null   object \n",
      " 4   tenure            7043 non-null   int64  \n",
      " 5   PhoneService      7043 non-null   object \n",
      " 6   MultipleLines     7043 non-null   object \n",
      " 7   InternetService   7043 non-null   object \n",
      " 8   OnlineSecurity    7043 non-null   object \n",
      " 9   OnlineBackup      7043 non-null   object \n",
      " 10  DeviceProtection  7043 non-null   object \n",
      " 11  TechSupport       7043 non-null   object \n",
      " 12  StreamingTV       7043 non-null   object \n",
      " 13  StreamingMovies   7043 non-null   object \n",
      " 14  Contract          7043 non-null   object \n",
      " 15  PaperlessBilling  7043 non-null   object \n",
      " 16  PaymentMethod     7043 non-null   object \n",
      " 17  MonthlyCharges    7043 non-null   float64\n",
      " 18  TotalCharges      7043 non-null   float64\n",
      " 19  Churn             7043 non-null   object \n",
      "dtypes: float64(2), int64(1), object(17)\n",
      "memory usage: 1.1+ MB\n"
     ]
    }
   ],
   "source": [
    "df.info()"
   ]
  },
  {
   "cell_type": "code",
   "execution_count": 112,
   "id": "1f9eb01c",
   "metadata": {},
   "outputs": [],
   "source": [
    "cat_cols = ['gender','SeniorCitizen', 'Partner','Dependents', 'PhoneService', 'MultipleLines','OnlineSecurity',\n",
    "       'OnlineBackup', 'DeviceProtection', 'TechSupport', 'StreamingTV',\n",
    "       'StreamingMovies','PaperlessBilling','Churn']\n",
    "\n",
    "le = LabelEncoder()\n",
    "\n",
    "for col in cat_cols:\n",
    "    df[col] = le.fit_transform(df[col])"
   ]
  },
  {
   "cell_type": "code",
   "execution_count": 113,
   "id": "5e51fa51",
   "metadata": {},
   "outputs": [],
   "source": [
    "df_ob = ['Contract','PaymentMethod','InternetService']\n",
    "df = pd.get_dummies(df, columns=df_ob, drop_first=True,dtype=int)"
   ]
  },
  {
   "cell_type": "code",
   "execution_count": 114,
   "id": "443f4c24",
   "metadata": {},
   "outputs": [
    {
     "data": {
      "text/html": [
       "<div>\n",
       "<style scoped>\n",
       "    .dataframe tbody tr th:only-of-type {\n",
       "        vertical-align: middle;\n",
       "    }\n",
       "\n",
       "    .dataframe tbody tr th {\n",
       "        vertical-align: top;\n",
       "    }\n",
       "\n",
       "    .dataframe thead th {\n",
       "        text-align: right;\n",
       "    }\n",
       "</style>\n",
       "<table border=\"1\" class=\"dataframe\">\n",
       "  <thead>\n",
       "    <tr style=\"text-align: right;\">\n",
       "      <th></th>\n",
       "      <th>Variable</th>\n",
       "      <th>VIF</th>\n",
       "    </tr>\n",
       "  </thead>\n",
       "  <tbody>\n",
       "    <tr>\n",
       "      <th>0</th>\n",
       "      <td>const</td>\n",
       "      <td>12.569920</td>\n",
       "    </tr>\n",
       "    <tr>\n",
       "      <th>12</th>\n",
       "      <td>TotalCharges</td>\n",
       "      <td>6.035152</td>\n",
       "    </tr>\n",
       "    <tr>\n",
       "      <th>5</th>\n",
       "      <td>tenure</td>\n",
       "      <td>5.512351</td>\n",
       "    </tr>\n",
       "    <tr>\n",
       "      <th>14</th>\n",
       "      <td>Contract_Two year</td>\n",
       "      <td>2.391684</td>\n",
       "    </tr>\n",
       "    <tr>\n",
       "      <th>16</th>\n",
       "      <td>PaymentMethod_Electronic check</td>\n",
       "      <td>1.928817</td>\n",
       "    </tr>\n",
       "    <tr>\n",
       "      <th>17</th>\n",
       "      <td>PaymentMethod_Mailed check</td>\n",
       "      <td>1.797045</td>\n",
       "    </tr>\n",
       "    <tr>\n",
       "      <th>15</th>\n",
       "      <td>PaymentMethod_Credit card (automatic)</td>\n",
       "      <td>1.559963</td>\n",
       "    </tr>\n",
       "    <tr>\n",
       "      <th>13</th>\n",
       "      <td>Contract_One year</td>\n",
       "      <td>1.533629</td>\n",
       "    </tr>\n",
       "    <tr>\n",
       "      <th>3</th>\n",
       "      <td>Partner</td>\n",
       "      <td>1.461898</td>\n",
       "    </tr>\n",
       "    <tr>\n",
       "      <th>9</th>\n",
       "      <td>DeviceProtection</td>\n",
       "      <td>1.450634</td>\n",
       "    </tr>\n",
       "    <tr>\n",
       "      <th>8</th>\n",
       "      <td>OnlineBackup</td>\n",
       "      <td>1.401087</td>\n",
       "    </tr>\n",
       "    <tr>\n",
       "      <th>10</th>\n",
       "      <td>TechSupport</td>\n",
       "      <td>1.388064</td>\n",
       "    </tr>\n",
       "    <tr>\n",
       "      <th>4</th>\n",
       "      <td>Dependents</td>\n",
       "      <td>1.380398</td>\n",
       "    </tr>\n",
       "    <tr>\n",
       "      <th>6</th>\n",
       "      <td>MultipleLines</td>\n",
       "      <td>1.371484</td>\n",
       "    </tr>\n",
       "    <tr>\n",
       "      <th>7</th>\n",
       "      <td>OnlineSecurity</td>\n",
       "      <td>1.303083</td>\n",
       "    </tr>\n",
       "    <tr>\n",
       "      <th>11</th>\n",
       "      <td>PaperlessBilling</td>\n",
       "      <td>1.163275</td>\n",
       "    </tr>\n",
       "    <tr>\n",
       "      <th>2</th>\n",
       "      <td>SeniorCitizen</td>\n",
       "      <td>1.138912</td>\n",
       "    </tr>\n",
       "    <tr>\n",
       "      <th>1</th>\n",
       "      <td>gender</td>\n",
       "      <td>1.001532</td>\n",
       "    </tr>\n",
       "  </tbody>\n",
       "</table>\n",
       "</div>"
      ],
      "text/plain": [
       "                                 Variable        VIF\n",
       "0                                   const  12.569920\n",
       "12                           TotalCharges   6.035152\n",
       "5                                  tenure   5.512351\n",
       "14                      Contract_Two year   2.391684\n",
       "16         PaymentMethod_Electronic check   1.928817\n",
       "17             PaymentMethod_Mailed check   1.797045\n",
       "15  PaymentMethod_Credit card (automatic)   1.559963\n",
       "13                      Contract_One year   1.533629\n",
       "3                                 Partner   1.461898\n",
       "9                        DeviceProtection   1.450634\n",
       "8                            OnlineBackup   1.401087\n",
       "10                            TechSupport   1.388064\n",
       "4                              Dependents   1.380398\n",
       "6                           MultipleLines   1.371484\n",
       "7                          OnlineSecurity   1.303083\n",
       "11                       PaperlessBilling   1.163275\n",
       "2                           SeniorCitizen   1.138912\n",
       "1                                  gender   1.001532"
      ]
     },
     "execution_count": 114,
     "metadata": {},
     "output_type": "execute_result"
    }
   ],
   "source": [
    "from statsmodels.stats.outliers_influence import variance_inflation_factor\n",
    "from statsmodels.tools.tools import add_constant\n",
    "\n",
    "X = df.drop(columns=['Churn','StreamingTV','StreamingMovies','PhoneService','InternetService_No','InternetService_Fiber optic','MonthlyCharges'])\n",
    "X = add_constant(X)\n",
    "\n",
    "vif_data = pd.DataFrame()\n",
    "vif_data[\"Variable\"] = X.columns\n",
    "vif_data[\"VIF\"] = [variance_inflation_factor(X.values, i) for i in range(X.shape[1])]\n",
    "\n",
    "vif_data.sort_values(by='VIF', ascending=False)"
   ]
  },
  {
   "cell_type": "code",
   "execution_count": 115,
   "id": "4cac73b0",
   "metadata": {},
   "outputs": [],
   "source": [
    "X = df.drop(columns='Churn')\n",
    "y = df['Churn']"
   ]
  },
  {
   "cell_type": "code",
   "execution_count": 116,
   "id": "8070828c",
   "metadata": {},
   "outputs": [
    {
     "data": {
      "text/plain": [
       "Churn\n",
       "0    5174\n",
       "1    1869\n",
       "Name: count, dtype: int64"
      ]
     },
     "execution_count": 116,
     "metadata": {},
     "output_type": "execute_result"
    }
   ],
   "source": [
    "y.value_counts()"
   ]
  },
  {
   "cell_type": "code",
   "execution_count": 117,
   "id": "2b970bf4",
   "metadata": {},
   "outputs": [],
   "source": [
    "X_train,X_test,y_train,y_test = train_test_split(X,y,test_size=0.20,random_state=42)"
   ]
  },
  {
   "cell_type": "code",
   "execution_count": 118,
   "id": "9b4b2004",
   "metadata": {},
   "outputs": [],
   "source": [
    "# Upsample clase minoritaria\n",
    "from sklearn.utils import resample\n",
    "\n",
    "df_train = pd.concat([X_train, y_train], axis=1)\n",
    "df_minority = df_train[df_train['Churn'] == 1]\n",
    "df_majority = df_train[df_train['Churn'] == 0]\n",
    "\n",
    "df_minority_upsampled = resample(df_minority, \n",
    "                                 replace=True,\n",
    "                                 n_samples=len(df_majority),\n",
    "                                 random_state=42)\n",
    "\n",
    "df_upsampled = pd.concat([df_majority, df_minority_upsampled]).sample(frac=1, random_state=42)\n",
    "\n",
    "X_train_bal = df_upsampled.drop(columns='Churn')\n",
    "y_train_bal = df_upsampled['Churn']"
   ]
  },
  {
   "cell_type": "code",
   "execution_count": 119,
   "id": "4bfd535f",
   "metadata": {},
   "outputs": [],
   "source": [
    "from imblearn.under_sampling import RandomUnderSampler\n",
    "\n",
    "rus = RandomUnderSampler(random_state=42)\n",
    "X_train_res, y_train_res = rus.fit_resample(X_train, y_train)"
   ]
  },
  {
   "cell_type": "code",
   "execution_count": 120,
   "id": "80194287",
   "metadata": {},
   "outputs": [
    {
     "name": "stdout",
     "output_type": "stream",
     "text": [
      "F1-score promedio en validación cruzada: 0.7642\n",
      "Classification Report:\n",
      "              precision    recall  f1-score   support\n",
      "\n",
      "           0       0.96      0.57      0.72      1036\n",
      "           1       0.44      0.94      0.60       373\n",
      "\n",
      "    accuracy                           0.67      1409\n",
      "   macro avg       0.70      0.75      0.66      1409\n",
      "weighted avg       0.82      0.67      0.69      1409\n",
      "\n",
      "[[595 441]\n",
      " [ 24 349]]\n"
     ]
    }
   ],
   "source": [
    "lr = LogisticRegression()\n",
    "skf = StratifiedKFold(n_splits=5, shuffle=True, random_state=42)\n",
    "lr.fit(X_train_res, y_train_res)\n",
    "\n",
    "y_prob = lr.predict_proba(X_test)[:, 1]\n",
    "y_pred_lr = (y_prob > 0.35).astype(int) \n",
    "\n",
    "f1_scores = cross_val_score(lr, X_train_res, y_train_res, cv=skf, scoring='f1')\n",
    "\n",
    "print(f\"F1-score promedio en validación cruzada: {f1_scores.mean():.4f}\")\n",
    "print(\"Classification Report:\")\n",
    "print(classification_report(y_test, y_pred_lr))\n",
    "print(confusion_matrix(y_test, y_pred_lr))"
   ]
  },
  {
   "cell_type": "code",
   "execution_count": 121,
   "id": "1a7ddfba",
   "metadata": {},
   "outputs": [
    {
     "name": "stdout",
     "output_type": "stream",
     "text": [
      "F1-score promedio en validación cruzada: 0.9087\n",
      "              precision    recall  f1-score   support\n",
      "\n",
      "           0       0.79      0.96      0.87      1036\n",
      "           1       0.74      0.28      0.41       373\n",
      "\n",
      "    accuracy                           0.78      1409\n",
      "   macro avg       0.77      0.62      0.64      1409\n",
      "weighted avg       0.78      0.78      0.75      1409\n",
      "\n"
     ]
    }
   ],
   "source": [
    "skf = StratifiedKFold(n_splits=5, shuffle=True, random_state=42)\n",
    "\n",
    "# rf\n",
    "rf = RandomForestClassifier(class_weight='balanced', random_state=42, n_jobs=-1) \n",
    "\n",
    "# cross validation\n",
    "f1_scores = cross_val_score(rf, X_train_bal, y_train_bal, cv=skf, scoring='f1')\n",
    "\n",
    "print(f\"F1-score promedio en validación cruzada: {f1_scores.mean():.4f}\")\n",
    "\n",
    "rf.fit(X_train_bal, y_train_bal)\n",
    "\n",
    "y_prob = rf.predict_proba(X_test)[:, 1]\n",
    "y_pred_rf = (y_prob > 0.75).astype(int) \n",
    "\n",
    "print(classification_report(y_test,y_pred_rf))"
   ]
  },
  {
   "cell_type": "code",
   "execution_count": 125,
   "id": "b1c5d356",
   "metadata": {},
   "outputs": [
    {
     "name": "stdout",
     "output_type": "stream",
     "text": [
      "\n",
      "[XGBoost] F1-score promedio CV: 0.5877\n",
      "Classification Report:\n",
      "               precision    recall  f1-score   support\n",
      "\n",
      "           0       0.92      0.69      0.79      1036\n",
      "           1       0.49      0.83      0.62       373\n",
      "\n",
      "    accuracy                           0.73      1409\n",
      "   macro avg       0.71      0.76      0.70      1409\n",
      "weighted avg       0.81      0.73      0.74      1409\n",
      "\n",
      "Confusion Matrix:\n",
      " [[718 318]\n",
      " [ 64 309]]\n"
     ]
    }
   ],
   "source": [
    "scale_pos_weight = y_train.value_counts()[0] / y_train.value_counts()[1]\n",
    "\n",
    "xgb = XGBClassifier(use_label_encoder=False, eval_metric='logloss',\n",
    "                    scale_pos_weight=scale_pos_weight, random_state=42)\n",
    "xgb.fit(X_train, y_train)\n",
    "\n",
    "# Probabilidades y predicción con threshold 0.35\n",
    "y_prob_xgb = xgb.predict_proba(X_test)[:, 1]\n",
    "y_pred_xgb = (y_prob_xgb > 0.30).astype(int)\n",
    "\n",
    "# F1 en validación cruzada\n",
    "f1_xgb = cross_val_score(xgb, X_train, y_train, cv=skf, scoring='f1')\n",
    "\n",
    "print(f\"\\n[XGBoost] F1-score promedio CV: {f1_xgb.mean():.4f}\")\n",
    "print(\"Classification Report:\\n\", classification_report(y_test, y_pred_xgb))\n",
    "print(\"Confusion Matrix:\\n\", confusion_matrix(y_test, y_pred_xgb))"
   ]
  },
  {
   "cell_type": "code",
   "execution_count": 126,
   "id": "661c9448",
   "metadata": {},
   "outputs": [
    {
     "name": "stdout",
     "output_type": "stream",
     "text": [
      "\n",
      "[RidgeClassifier]\n",
      "              precision    recall  f1-score   support\n",
      "\n",
      "           0       0.86      0.92      0.88      1036\n",
      "           1       0.71      0.57      0.63       373\n",
      "\n",
      "    accuracy                           0.82      1409\n",
      "   macro avg       0.78      0.74      0.76      1409\n",
      "weighted avg       0.82      0.82      0.82      1409\n",
      "\n",
      "[[948  88]\n",
      " [160 213]]\n"
     ]
    }
   ],
   "source": [
    "from sklearn.linear_model import RidgeClassifier\n",
    "ridge = RidgeClassifier()\n",
    "ridge.fit(X_train, y_train)\n",
    "\n",
    "# Ridge no permite threshold -> usamos predict directamente\n",
    "y_pred_ridge = ridge.predict(X_test)\n",
    "\n",
    "print(\"\\n[RidgeClassifier]\")\n",
    "print(classification_report(y_test, y_pred_ridge))\n",
    "print(confusion_matrix(y_test, y_pred_ridge))"
   ]
  },
  {
   "cell_type": "code",
   "execution_count": 128,
   "id": "2cde3061",
   "metadata": {},
   "outputs": [
    {
     "name": "stdout",
     "output_type": "stream",
     "text": [
      "\n",
      "[LogReg L1]\n",
      "              precision    recall  f1-score   support\n",
      "\n",
      "           0       0.96      0.58      0.72      1036\n",
      "           1       0.44      0.94      0.60       373\n",
      "\n",
      "    accuracy                           0.67      1409\n",
      "   macro avg       0.70      0.76      0.66      1409\n",
      "weighted avg       0.83      0.67      0.69      1409\n",
      "\n",
      "[[596 440]\n",
      " [ 23 350]]\n",
      "\n",
      "[LogReg L2]\n",
      "              precision    recall  f1-score   support\n",
      "\n",
      "           0       0.96      0.58      0.72      1036\n",
      "           1       0.45      0.94      0.60       373\n",
      "\n",
      "    accuracy                           0.67      1409\n",
      "   macro avg       0.70      0.76      0.66      1409\n",
      "weighted avg       0.82      0.67      0.69      1409\n",
      "\n",
      "[[601 435]\n",
      " [ 24 349]]\n",
      "\n",
      "[ElasticNet]\n",
      "              precision    recall  f1-score   support\n",
      "\n",
      "           0       0.93      0.39      0.54      1036\n",
      "           1       0.35      0.92      0.51       373\n",
      "\n",
      "    accuracy                           0.53      1409\n",
      "   macro avg       0.64      0.65      0.53      1409\n",
      "weighted avg       0.78      0.53      0.53      1409\n",
      "\n",
      "[[399 637]\n",
      " [ 30 343]]\n"
     ]
    }
   ],
   "source": [
    "from sklearn.linear_model import LogisticRegression\n",
    "\n",
    "# Lasso (L1)\n",
    "lr_l1 = LogisticRegression(penalty='l1', solver='liblinear', random_state=42)\n",
    "lr_l1.fit(X_train_res, y_train_res)\n",
    "y_prob_l1 = lr_l1.predict_proba(X_test)[:, 1]\n",
    "y_pred_l1 = (y_prob_l1 > 0.35).astype(int)\n",
    "\n",
    "print(\"\\n[LogReg L1]\")\n",
    "print(classification_report(y_test, y_pred_l1))\n",
    "print(confusion_matrix(y_test, y_pred_l1))\n",
    "\n",
    "# Ridge (L2)\n",
    "lr_l2 = LogisticRegression(penalty='l2', solver='liblinear', random_state=42)\n",
    "lr_l2.fit(X_train_res, y_train_res)\n",
    "y_prob_l2 = lr_l2.predict_proba(X_test)[:, 1]\n",
    "y_pred_l2 = (y_prob_l2 > 0.35).astype(int)\n",
    "\n",
    "print(\"\\n[LogReg L2]\")\n",
    "print(classification_report(y_test, y_pred_l2))\n",
    "print(confusion_matrix(y_test, y_pred_l2))\n",
    "\n",
    "# ElasticNet\n",
    "lr_en = LogisticRegression(penalty='elasticnet', solver='saga', l1_ratio=0.5, random_state=42)\n",
    "lr_en.fit(X_train_res, y_train_res)\n",
    "y_prob_en = lr_en.predict_proba(X_test)[:, 1]\n",
    "y_pred_en = (y_prob_en > 0.35).astype(int)\n",
    "\n",
    "print(\"\\n[ElasticNet]\")\n",
    "print(classification_report(y_test, y_pred_en))\n",
    "print(confusion_matrix(y_test, y_pred_en))\n"
   ]
  },
  {
   "cell_type": "code",
   "execution_count": 130,
   "id": "0254e5a5",
   "metadata": {},
   "outputs": [
    {
     "name": "stdout",
     "output_type": "stream",
     "text": [
      "\n",
      "[DecisionTreeClassifier]\n",
      "              precision    recall  f1-score   support\n",
      "\n",
      "           0       0.97      0.43      0.60      1036\n",
      "           1       0.38      0.97      0.54       373\n",
      "\n",
      "    accuracy                           0.57      1409\n",
      "   macro avg       0.68      0.70      0.57      1409\n",
      "weighted avg       0.81      0.57      0.58      1409\n",
      "\n",
      "[[446 590]\n",
      " [ 13 360]]\n"
     ]
    }
   ],
   "source": [
    "from sklearn.tree import DecisionTreeClassifier\n",
    "\n",
    "dt = DecisionTreeClassifier(max_depth=5, class_weight='balanced', random_state=42)\n",
    "dt.fit(X_train, y_train)\n",
    "\n",
    "y_prob_dt = dt.predict_proba(X_test)[:, 1]\n",
    "y_pred_dt = (y_prob_dt > 0.30).astype(int)\n",
    "\n",
    "print(\"\\n[DecisionTreeClassifier]\")\n",
    "print(classification_report(y_test, y_pred_dt))\n",
    "print(confusion_matrix(y_test, y_pred_dt))\n"
   ]
  },
  {
   "cell_type": "code",
   "execution_count": null,
   "id": "6a03a622",
   "metadata": {},
   "outputs": [],
   "source": []
  },
  {
   "cell_type": "code",
   "execution_count": null,
   "id": "5becd5c8",
   "metadata": {},
   "outputs": [],
   "source": []
  },
  {
   "cell_type": "code",
   "execution_count": null,
   "id": "2d102ce7",
   "metadata": {},
   "outputs": [],
   "source": []
  },
  {
   "cell_type": "code",
   "execution_count": null,
   "id": "f777bce8",
   "metadata": {},
   "outputs": [],
   "source": []
  },
  {
   "cell_type": "code",
   "execution_count": null,
   "id": "bf64c514",
   "metadata": {},
   "outputs": [],
   "source": []
  },
  {
   "cell_type": "code",
   "execution_count": null,
   "id": "b34d4e5d",
   "metadata": {},
   "outputs": [],
   "source": []
  }
 ],
 "metadata": {
  "kernelspec": {
   "display_name": ".venv",
   "language": "python",
   "name": "python3"
  },
  "language_info": {
   "codemirror_mode": {
    "name": "ipython",
    "version": 3
   },
   "file_extension": ".py",
   "mimetype": "text/x-python",
   "name": "python",
   "nbconvert_exporter": "python",
   "pygments_lexer": "ipython3",
   "version": "3.11.11"
  }
 },
 "nbformat": 4,
 "nbformat_minor": 5
}
