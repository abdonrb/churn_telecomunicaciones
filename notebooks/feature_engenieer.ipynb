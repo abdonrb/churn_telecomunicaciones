{
 "cells": [
  {
   "cell_type": "code",
   "execution_count": 33,
   "id": "012a72c5",
   "metadata": {},
   "outputs": [],
   "source": [
    "import pandas as pd"
   ]
  },
  {
   "cell_type": "code",
   "execution_count": 34,
   "id": "60e357ac",
   "metadata": {},
   "outputs": [],
   "source": [
    "df = pd.read_csv(r'..\\data\\processed\\teleco-clean.csv')"
   ]
  },
  {
   "cell_type": "code",
   "execution_count": 35,
   "id": "7cf6c3b6",
   "metadata": {},
   "outputs": [],
   "source": [
    "binary_vars = ['gender', 'Partner', 'Dependents', 'PhoneService', 'MultipleLines',\n",
    "'InternetService', 'OnlineSecurity', 'OnlineBackup', 'DeviceProtection',\n",
    "'TechSupport', 'StreamingTV', 'StreamingMovies', 'Contract',\n",
    "'PaperlessBilling', 'PaymentMethod','SeniorCitizen']\n"
   ]
  },
  {
   "cell_type": "code",
   "execution_count": 36,
   "id": "3266bc10",
   "metadata": {},
   "outputs": [],
   "source": [
    "df = pd.get_dummies(df, columns=binary_vars, drop_first=True,dtype=int)\n"
   ]
  },
  {
   "cell_type": "code",
   "execution_count": 37,
   "id": "827a29ac",
   "metadata": {},
   "outputs": [],
   "source": [
    "addon_cols = [\n",
    "    'OnlineSecurity_Yes', 'OnlineBackup_Yes', 'DeviceProtection_Yes',\n",
    "    'TechSupport_Yes', 'StreamingTV_Yes', 'StreamingMovies_Yes'\n",
    "]\n",
    "df['has_addons'] = df[addon_cols].sum(axis=1)"
   ]
  },
  {
   "cell_type": "code",
   "execution_count": 38,
   "id": "7205671e",
   "metadata": {},
   "outputs": [],
   "source": [
    "df['Churn'] =  df['Churn'].map({'Yes':1,'No':0})"
   ]
  },
  {
   "cell_type": "code",
   "execution_count": 39,
   "id": "95c6c8ac",
   "metadata": {},
   "outputs": [],
   "source": [
    "df.to_csv('teleco-ML.csv',index=False)"
   ]
  },
  {
   "cell_type": "code",
   "execution_count": null,
   "id": "03bf9a03",
   "metadata": {},
   "outputs": [],
   "source": []
  },
  {
   "cell_type": "code",
   "execution_count": null,
   "id": "701281f8",
   "metadata": {},
   "outputs": [],
   "source": []
  },
  {
   "cell_type": "code",
   "execution_count": null,
   "id": "0d514bf3",
   "metadata": {},
   "outputs": [],
   "source": []
  },
  {
   "cell_type": "code",
   "execution_count": null,
   "id": "55dd7623",
   "metadata": {},
   "outputs": [],
   "source": []
  },
  {
   "cell_type": "code",
   "execution_count": null,
   "id": "80d0acd4",
   "metadata": {},
   "outputs": [],
   "source": []
  }
 ],
 "metadata": {
  "kernelspec": {
   "display_name": ".venv",
   "language": "python",
   "name": "python3"
  },
  "language_info": {
   "codemirror_mode": {
    "name": "ipython",
    "version": 3
   },
   "file_extension": ".py",
   "mimetype": "text/x-python",
   "name": "python",
   "nbconvert_exporter": "python",
   "pygments_lexer": "ipython3",
   "version": "3.11.11"
  }
 },
 "nbformat": 4,
 "nbformat_minor": 5
}
